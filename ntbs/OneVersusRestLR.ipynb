{
 "cells": [
  {
   "cell_type": "code",
   "execution_count": 38,
   "id": "345e71c2",
   "metadata": {},
   "outputs": [],
   "source": [
    "# Imports and Consts\n",
    "SEED = 42\n",
    "import struct as st\n",
    "import numpy as np"
   ]
  },
  {
   "cell_type": "code",
   "execution_count": 39,
   "id": "68081344",
   "metadata": {},
   "outputs": [],
   "source": [
    "# Helper function to parse IDX files\n",
    "def parse_idx(file_path):\n",
    "    with open(file_path, 'rb') as file:\n",
    "        magic = st.unpack('>I', file.read(4))[0]  # Magic number (4 bytes)\n",
    "        num_items = st.unpack('>I', file.read(4))[0]  # Number of items (4 bytes)\n",
    "\n",
    "        if magic == 2051:  # Magic number for images\n",
    "            num_rows = st.unpack('>I', file.read(4))[0]\n",
    "            num_cols = st.unpack('>I', file.read(4))[0]\n",
    "            num_bytes = num_items * num_rows * num_cols\n",
    "            data = np.frombuffer(file.read(num_bytes), dtype=np.uint8)\n",
    "            return data.reshape(num_items, num_rows, num_cols)\n",
    "        elif magic == 2049:  # Magic number for labels\n",
    "            data = np.frombuffer(file.read(num_items), dtype=np.uint8)\n",
    "            return data\n",
    "        else:\n",
    "            raise ValueError(f\"Unknown magic number: {magic}\")\n",
    "\n",
    "# Parse the training data\n",
    "x_train = parse_idx('DigitData/train-images.idx3-ubyte')\n",
    "y_train = parse_idx('DigitData/train-labels.idx1-ubyte')\n",
    "\n",
    "x_test = parse_idx('DigitData/t10k-images.idx3-ubyte')\n",
    "y_test = parse_idx('DigitData/t10k-labels.idx1-ubyte')\n",
    "\n",
    "# Reshape and scale down\n",
    "x_train = x_train.reshape(x_train.shape[0], -1) / 255.0\n",
    "x_test = x_test.reshape(x_test.shape[0], -1) / 255.0"
   ]
  },
  {
   "cell_type": "code",
   "execution_count": 40,
   "id": "55dfd276",
   "metadata": {},
   "outputs": [],
   "source": [
    "# Normalize\n",
    "train_mean = np.mean(x_train, axis=0)\n",
    "train_std = np.std(x_train, axis=0) + 1e-12\n",
    "\n",
    "x_train = (x_train - train_mean) / train_std\n",
    "x_test = (x_test - train_mean) / train_std\n",
    "\n",
    "# Add extra ones column\n",
    "x_train = np.hstack([x_train, np.ones((len(x_train), 1)) ])\n",
    "x_test = np.hstack([ x_test, np.ones((len(x_test), 1)) ])"
   ]
  },
  {
   "cell_type": "code",
   "execution_count": null,
   "id": "75e30a10",
   "metadata": {},
   "outputs": [],
   "source": [
    "# Helpers\n",
    "\n",
    "def Pr(arr: np.ndarray, param: np.ndarray) -> np.ndarray:\n",
    "    z = arr @ param\n",
    "    z_clipped = np.clip(z, -500, 500)\n",
    "    return 1.0 / (1.0 + np.exp(-z_clipped))\n",
    "\n",
    "def construct_w(p: np.ndarray) -> np.ndarray:\n",
    "    return (1 - p) * p\n",
    "\n",
    "def compute_cholesky(X, w, lam=1e-2):\n",
    "    H = X.T @ (X * w[:, None]) + lam * np.eye(X.shape[1])\n",
    "\n",
    "    return np.linalg.cholesky(H)\n",
    "\n",
    "def compute_delta(X: np.ndarray, L: np.ndarray, Y: np.ndarray, p: np.ndarray, lam=1e-2) -> np.ndarray:\n",
    "    B = X.T @ (Y-p)\n",
    "    \n",
    "    # Solve first only with L\n",
    "    temp = np.linalg.solve(L, B)\n",
    "\n",
    "    # Return final solution by solving for temp with L.T\n",
    "    return np.linalg.solve(L.T, temp)"
   ]
  },
  {
   "cell_type": "code",
   "execution_count": 54,
   "id": "9db214c7",
   "metadata": {},
   "outputs": [
    {
     "name": "stdout",
     "output_type": "stream",
     "text": [
      "Epoch: 1/10 done.\n",
      "Epoch: 2/10 done.\n",
      "Epoch: 3/10 done.\n",
      "Epoch: 4/10 done.\n",
      "Epoch: 5/10 done.\n",
      "Epoch: 6/10 done.\n",
      "Epoch: 7/10 done.\n",
      "Epoch: 8/10 done.\n",
      "Epoch: 9/10 done.\n",
      "Epoch: 10/10 done.\n"
     ]
    }
   ],
   "source": [
    "def train(X, Y, epochs=10, batch_size=1000):\n",
    "    thetas = np.random.randn(10, X.shape[1])\n",
    "\n",
    "    # To Shuffle Batches:\n",
    "    gen = np.random.default_rng(SEED)\n",
    "\n",
    "    # Build accumulated gradient\n",
    "    for epoch in range(epochs):\n",
    "        idx = gen.permutation(len(X))\n",
    "        X_epoch = X[idx]\n",
    "        Y_epoch = Y[idx]\n",
    "        for digit in range(len(thetas)):\n",
    "            theta = thetas[digit]\n",
    "            p_full = Pr(X_epoch, thetas[digit])\n",
    "            w_full = construct_w(p_full)\n",
    "            L = compute_cholesky(X_epoch, w_full)\n",
    "            for start in range(0, len(X), batch_size):\n",
    "                end = start + batch_size\n",
    "                X_batch = X_epoch[start:end]\n",
    "                Y_batch = (Y_epoch[start:end] == digit).astype(float)\n",
    "                \n",
    "                p = Pr(X_batch, theta)\n",
    "                theta += compute_delta(X_batch, L, Y_batch, p)\n",
    "            thetas[digit] = theta\n",
    "        print(f\"Epoch: {epoch + 1}/{epochs} done.\")\n",
    "    return thetas\n",
    "\n",
    "thetas = train(x_train, y_train)"
   ]
  },
  {
   "cell_type": "code",
   "execution_count": 55,
   "id": "2cc2d638",
   "metadata": {},
   "outputs": [
    {
     "name": "stdout",
     "output_type": "stream",
     "text": [
      "0.8452\n"
     ]
    }
   ],
   "source": [
    "# Make predictions\n",
    "\n",
    "def predict(X, thetas):\n",
    "    probs = np.array([Pr(X, theta) for theta in thetas])\n",
    "    return np.argmax(probs, axis=0)\n",
    "\n",
    "def accuracy(X, Y, thetas):\n",
    "    preds = predict(X, thetas)\n",
    "    return np.mean(preds==Y)\n",
    "\n",
    "print(accuracy(x_test, y_test, thetas))\n"
   ]
  }
 ],
 "metadata": {
  "kernelspec": {
   "display_name": "LogisticRegression",
   "language": "python",
   "name": "python3"
  },
  "language_info": {
   "codemirror_mode": {
    "name": "ipython",
    "version": 3
   },
   "file_extension": ".py",
   "mimetype": "text/x-python",
   "name": "python",
   "nbconvert_exporter": "python",
   "pygments_lexer": "ipython3",
   "version": "3.13.2"
  }
 },
 "nbformat": 4,
 "nbformat_minor": 5
}
