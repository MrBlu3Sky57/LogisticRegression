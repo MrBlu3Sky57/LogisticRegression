{
 "cells": [
  {
   "cell_type": "code",
   "execution_count": 2,
   "id": "4e86f54a",
   "metadata": {},
   "outputs": [
    {
     "name": "stderr",
     "output_type": "stream",
     "text": [
      "/Users/tudor/CS-Work/ML/P1/LogisticRegression/LogisticRegression/lib/python3.13/site-packages/tqdm/auto.py:21: TqdmWarning: IProgress not found. Please update jupyter and ipywidgets. See https://ipywidgets.readthedocs.io/en/stable/user_install.html\n",
      "  from .autonotebook import tqdm as notebook_tqdm\n"
     ]
    }
   ],
   "source": [
    "# Imports and Consts\n",
    "SEED = 42 # For determnistic testing\n",
    "import numpy as np\n",
    "from util import get_data"
   ]
  },
  {
   "cell_type": "code",
   "execution_count": null,
   "id": "69e82d7c",
   "metadata": {},
   "outputs": [
    {
     "name": "stdout",
     "output_type": "stream",
     "text": [
      "(768, 8)\n",
      "(768, 9)\n"
     ]
    }
   ],
   "source": [
    "# Read data and construct data sets\n",
    "data = get_data()\n",
    "data = data[1:]\n",
    "data = data.astype(float)\n",
    "xs = data[:, :-1]\n",
    "ys = data[:, -1]\n",
    "print(xs.shape)\n",
    "\n",
    "# Add column to account for const B value in training\n",
    "ones = [[1.0]] * len(xs)\n",
    "xs = np.append(xs, ones, axis=1)"
   ]
  },
  {
   "cell_type": "code",
   "execution_count": 24,
   "id": "9da25f79",
   "metadata": {},
   "outputs": [],
   "source": [
    "# Normalize Data\n",
    "xs = xs / np.linalg.norm(xs, axis=0, keepdims=True)\n",
    "xs = (xs - np.mean(xs, axis=0)) / np.std(xs, axis=0)\n",
    "\n",
    "# Shuffle\n",
    "np.random.seed(42)\n",
    "idxs = np.random.permutation(len(xs))\n",
    "\n",
    "xs = xs[idxs]\n",
    "ys = ys[idxs]\n",
    "\n",
    "# Split Data\n",
    "x_train = xs[:614]\n",
    "y_train = ys[:614]\n",
    "x_dev = xs[614:691]\n",
    "y_dev = ys[614:691]\n",
    "x_test = xs[691:]\n",
    "y_test = ys[691:]\n"
   ]
  },
  {
   "cell_type": "code",
   "execution_count": null,
   "id": "43c3b791",
   "metadata": {},
   "outputs": [
    {
     "data": {
      "text/plain": [
       "(9,)"
      ]
     },
     "execution_count": 41,
     "metadata": {},
     "output_type": "execute_result"
    }
   ],
   "source": [
    "# Helpers\n",
    "\n",
    "def Pr(arr: np.ndarray, param: np.ndarray) -> np.ndarray:\n",
    "    exp = np.exp(arr @ param)\n",
    "    return exp / (1 + exp)\n",
    "\n",
    "def construct_w(p: np.ndarray) -> np.ndarray:\n",
    "    return np.diag((1 - p) * p)\n",
    "\n",
    "def compute_delta(X: np.ndarray, diag: np.ndarray, Y: np.ndarray, p: np.ndarray) -> np.ndarray:\n",
    "    H = X.T @ diag @ X\n",
    "    B = X.T @ (Y - p)\n",
    "\n",
    "    # Speed up computation via decomposition\n",
    "    L = np.linalg.cholesky(H)\n",
    "    \n",
    "    # Solve first only with L\n",
    "    temp = np.linalg.solve(L, B)\n",
    "\n",
    "    # Return final solution by solving for temp with L.T\n",
    "    return np.linalg.solve(L.T, temp)"
   ]
  },
  {
   "cell_type": "code",
   "execution_count": null,
   "id": "1276efd4",
   "metadata": {},
   "outputs": [],
   "source": [
    "def newton_descent(X):\n",
    "    # Initialize Theta\n",
    "    np.random.seed(42)\n",
    "    theta = np.random.randn(xs.shape[1])"
   ]
  }
 ],
 "metadata": {
  "kernelspec": {
   "display_name": "LogisticRegression",
   "language": "python",
   "name": "python3"
  },
  "language_info": {
   "codemirror_mode": {
    "name": "ipython",
    "version": 3
   },
   "file_extension": ".py",
   "mimetype": "text/x-python",
   "name": "python",
   "nbconvert_exporter": "python",
   "pygments_lexer": "ipython3",
   "version": "3.13.2"
  }
 },
 "nbformat": 4,
 "nbformat_minor": 5
}
