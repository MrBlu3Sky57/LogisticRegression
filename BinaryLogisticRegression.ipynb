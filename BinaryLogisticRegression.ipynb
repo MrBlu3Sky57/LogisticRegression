{
 "cells": [
  {
   "cell_type": "code",
   "execution_count": null,
   "id": "4e86f54a",
   "metadata": {},
   "outputs": [],
   "source": [
    "# Imports and Consts\n",
    "SEED = 42 # For determnistic testing\n",
    "import numpy as np\n",
    "from src.Binary.util import get_data"
   ]
  },
  {
   "cell_type": "code",
   "execution_count": 126,
   "id": "69e82d7c",
   "metadata": {},
   "outputs": [],
   "source": [
    "# Read data and construct data sets\n",
    "data = get_data()\n",
    "\n",
    "# Some preprocessing\n",
    "cols_missing = ['Glucose', 'BloodPressure', 'SkinThickness', 'Insulin', 'BMI']\n",
    "cols = [i for i, val in enumerate(list(data[0])) if val in cols_missing]\n",
    "\n",
    "data = data[1:]\n",
    "data = data.astype(float)\n",
    "xs = data[:, :-1]\n",
    "ys = data[:, -1]\n",
    "\n",
    "for i in cols:\n",
    "    m = np.median(xs[:, i][xs[:, i] > 0])\n",
    "    xs[:, i][xs[:, i] == 0] = m"
   ]
  },
  {
   "cell_type": "code",
   "execution_count": 127,
   "id": "9da25f79",
   "metadata": {},
   "outputs": [],
   "source": [
    "# Shuffle\n",
    "np.random.seed(42)\n",
    "idxs = np.random.permutation(len(xs))\n",
    "\n",
    "xs = xs[idxs]\n",
    "ys = ys[idxs]\n",
    "\n",
    "# Split Data\n",
    "x_train = xs[:614]\n",
    "y_train = ys[:614]\n",
    "x_dev = xs[614:691]\n",
    "y_dev = ys[614:691]\n",
    "x_test = xs[691:]\n",
    "y_test = ys[691:]\n",
    "\n",
    "# Normalizing data\n",
    "train_mean = np.mean(x_train, axis=0)\n",
    "train_std = np.std(x_train, axis=0) + 1e-12\n",
    "\n",
    "x_train = (x_train - train_mean) / train_std\n",
    "x_test = (x_test - train_mean) / train_std\n",
    "x_dev = (x_dev - train_mean) / train_std\n",
    "\n",
    "\n",
    "# Extra column for bias term\n",
    "x_train = np.hstack([ x_train, np.ones((len(x_train), 1)) ])\n",
    "x_dev = np.hstack([ x_dev, np.ones((len(x_dev), 1)) ])\n",
    "x_test = np.hstack([ x_test, np.ones((len(x_test), 1)) ])\n"
   ]
  },
  {
   "cell_type": "code",
   "execution_count": 128,
   "id": "43c3b791",
   "metadata": {},
   "outputs": [],
   "source": [
    "# Helpers\n",
    "\n",
    "def Pr(arr: np.ndarray, param: np.ndarray) -> np.ndarray:\n",
    "    z = arr @ param\n",
    "    z_clipped = np.clip(z, -500, +500)\n",
    "    return 1.0 / (1.0 + np.exp(-z_clipped))\n",
    "\n",
    "def construct_w(p: np.ndarray) -> np.ndarray:\n",
    "    return np.diag((1 - p) * p)\n",
    "\n",
    "def compute_delta(X: np.ndarray, diag: np.ndarray, Y: np.ndarray, p: np.ndarray) -> np.ndarray:\n",
    "    H = X.T @ diag @ X + 1e-2 * np.diag(np.ones(X.shape[1]))\n",
    "    B = X.T @ (Y-p)\n",
    "\n",
    "    # Speed up computation via decomposition\n",
    "    L = np.linalg.cholesky(H)\n",
    "    \n",
    "    # Solve first only with L\n",
    "    temp = np.linalg.solve(L, B)\n",
    "\n",
    "    # Return final solution by solving for temp with L.T\n",
    "    return np.linalg.solve(L.T, temp)\n",
    "\n",
    "def loglik(p, y, tol=1e-15):\n",
    "    ll = np.sum(y * np.log(p + tol) + (1 - y) * (np.log(1 - p + tol)))\n",
    "    return ll\n",
    "\n",
    "def scale_const(X, Y, p_old, theta, delta, alpha):\n",
    "    ll_old = loglik(p_old, Y)\n",
    "\n",
    "    while True:\n",
    "        p_new = Pr(X, theta + alpha * delta)\n",
    "        ll_new = loglik(p_new, Y)\n",
    "\n",
    "        if ll_new >= ll_old:\n",
    "            return alpha\n",
    "        \n",
    "        if alpha < 1e-8:\n",
    "            return None\n",
    "        \n",
    "        alpha *= 0.5"
   ]
  },
  {
   "cell_type": "code",
   "execution_count": 129,
   "id": "1276efd4",
   "metadata": {},
   "outputs": [],
   "source": [
    "# Model Training\n",
    "\n",
    "def newton_method(X, Y, iters=1000):\n",
    "    # Initialize Theta\n",
    "    np.random.seed(42)\n",
    "    theta = np.random.randn(X.shape[1])\n",
    "\n",
    "    alpha = 1.0\n",
    "    for _ in range(iters):\n",
    "        # Calc Values\n",
    "        p = Pr(X, theta)\n",
    "        W = construct_w(p)\n",
    "        delta = compute_delta(X, W, Y, p)\n",
    "\n",
    "        # Prevent exploding step\n",
    "        alpha = scale_const(X, Y, p, theta, delta, alpha)\n",
    "\n",
    "        # If next step would lower LL\n",
    "        if alpha is None:\n",
    "            return theta\n",
    "        else:\n",
    "            # Apply Newton method\n",
    "            theta += alpha * delta\n",
    "    return theta\n"
   ]
  },
  {
   "cell_type": "code",
   "execution_count": 130,
   "id": "9d90643d",
   "metadata": {},
   "outputs": [],
   "source": [
    "# Predictor\n",
    "\n",
    "def log_regression(X, theta, tol=0.5):\n",
    "    logits = X @ theta\n",
    "\n",
    "    # Calculate probability of a 1\n",
    "    probs = 1.0 / (1.0 + np.exp(-logits))\n",
    "\n",
    "    # Round to get preds\n",
    "    return np.where(probs > tol, 1, 0)\n",
    "\n",
    "def accuracy(X, Y, theta, tol=0.5):\n",
    "    preds = log_regression(X, theta, tol)\n",
    "    return np.mean(preds == Y)"
   ]
  },
  {
   "cell_type": "code",
   "execution_count": 131,
   "id": "dc1540c7",
   "metadata": {},
   "outputs": [],
   "source": [
    "# Find optimal tolerance\n",
    "theta = newton_method(x_train, y_train)\n",
    "tols = np.linspace(0, 1, 100)\n",
    "accs = np.array([accuracy(x_dev, y_dev, theta, tol) for tol in tols])\n",
    "opt_tol = tols[np.argmax(accs)]"
   ]
  },
  {
   "cell_type": "code",
   "execution_count": 132,
   "id": "04badec6",
   "metadata": {},
   "outputs": [
    {
     "name": "stdout",
     "output_type": "stream",
     "text": [
      "0.7792207792207793\n"
     ]
    }
   ],
   "source": [
    "theta = newton_method(x_train, y_train)\n",
    "print(accuracy(x_test, y_test, theta, opt_tol))"
   ]
  }
 ],
 "metadata": {
  "kernelspec": {
   "display_name": "LogisticRegression",
   "language": "python",
   "name": "python3"
  },
  "language_info": {
   "codemirror_mode": {
    "name": "ipython",
    "version": 3
   },
   "file_extension": ".py",
   "mimetype": "text/x-python",
   "name": "python",
   "nbconvert_exporter": "python",
   "pygments_lexer": "ipython3",
   "version": "3.13.2"
  }
 },
 "nbformat": 4,
 "nbformat_minor": 5
}
