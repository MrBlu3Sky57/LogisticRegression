{
 "cells": [
  {
   "cell_type": "code",
   "execution_count": 2,
   "id": "4e86f54a",
   "metadata": {},
   "outputs": [],
   "source": [
    "# Imports and Consts\n",
    "SEED = 42 # For determnistic testing\n",
    "import numpy as np\n",
    "from util import get_data"
   ]
  },
  {
   "cell_type": "code",
   "execution_count": 8,
   "id": "69e82d7c",
   "metadata": {},
   "outputs": [],
   "source": [
    "# Read data and construct data sets\n",
    "data = get_data()\n",
    "data = data[1:]\n",
    "xs = data[:, :-1]\n",
    "ys = data[:, -1]"
   ]
  }
 ],
 "metadata": {
  "kernelspec": {
   "display_name": "LogisticRegression",
   "language": "python",
   "name": "python3"
  },
  "language_info": {
   "codemirror_mode": {
    "name": "ipython",
    "version": 3
   },
   "file_extension": ".py",
   "mimetype": "text/x-python",
   "name": "python",
   "nbconvert_exporter": "python",
   "pygments_lexer": "ipython3",
   "version": "3.13.2"
  }
 },
 "nbformat": 4,
 "nbformat_minor": 5
}
