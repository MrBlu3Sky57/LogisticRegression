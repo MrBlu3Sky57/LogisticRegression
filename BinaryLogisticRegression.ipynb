{
 "cells": [
  {
   "cell_type": "code",
   "execution_count": 2,
   "id": "4e86f54a",
   "metadata": {},
   "outputs": [
    {
     "name": "stderr",
     "output_type": "stream",
     "text": [
      "/Users/tudor/CS-Work/ML/P1/LogisticRegression/LogisticRegression/lib/python3.13/site-packages/tqdm/auto.py:21: TqdmWarning: IProgress not found. Please update jupyter and ipywidgets. See https://ipywidgets.readthedocs.io/en/stable/user_install.html\n",
      "  from .autonotebook import tqdm as notebook_tqdm\n"
     ]
    }
   ],
   "source": [
    "# Imports and Consts\n",
    "SEED = 42 # For determnistic testing\n",
    "import numpy as np\n",
    "from util import get_data"
   ]
  },
  {
   "cell_type": "code",
   "execution_count": null,
   "id": "69e82d7c",
   "metadata": {},
   "outputs": [
    {
     "name": "stdout",
     "output_type": "stream",
     "text": [
      "(768, 8)\n",
      "(768, 9)\n"
     ]
    }
   ],
   "source": [
    "# Read data and construct data sets\n",
    "data = get_data()\n",
    "data = data[1:]\n",
    "data = data.astype(float)\n",
    "xs = data[:, :-1]\n",
    "ys = data[:, -1]\n",
    "print(xs.shape)\n",
    "\n",
    "# Add column to account for const B value in training\n",
    "ones = [[1.0]] * len(xs)\n",
    "xs = np.append(xs, ones, axis=1)"
   ]
  },
  {
   "cell_type": "code",
   "execution_count": 24,
   "id": "9da25f79",
   "metadata": {},
   "outputs": [],
   "source": [
    "# Normalize Data\n",
    "xs = xs / np.linalg.norm(xs, axis=0, keepdims=True)\n",
    "xs = (xs - np.mean(xs, axis=0)) / np.std(xs, axis=0)\n",
    "\n",
    "# Shuffle\n",
    "np.random.seed(42)\n",
    "idxs = np.random.permutation(len(xs))\n",
    "\n",
    "xs = xs[idxs]\n",
    "ys = ys[idxs]\n",
    "\n",
    "# Split Data\n",
    "x_train = xs[:614]\n",
    "y_train = ys[:614]\n",
    "x_dev = xs[614:691]\n",
    "y_dev = ys[614:691]\n",
    "x_test = xs[691:]\n",
    "y_test = ys[691:]\n"
   ]
  },
  {
   "cell_type": "code",
   "execution_count": 51,
   "id": "43c3b791",
   "metadata": {},
   "outputs": [],
   "source": [
    "# Helpers\n",
    "\n",
    "def Pr(arr: np.ndarray, param: np.ndarray) -> np.ndarray:\n",
    "    exp = np.exp(arr @ param)\n",
    "    return exp / (1 + exp)\n",
    "\n",
    "def construct_w(p: np.ndarray) -> np.ndarray:\n",
    "    return np.diag((1 - p) * p)\n",
    "\n",
    "def compute_delta(X: np.ndarray, diag: np.ndarray, Y: np.ndarray, p: np.ndarray) -> np.ndarray:\n",
    "    H = X.T @ diag @ X + 1e-12 * np.diag(np.ones(X.shape[1]))\n",
    "    B = X.T @ (Y - p)\n",
    "\n",
    "    # Speed up computation via decomposition\n",
    "    L = np.linalg.cholesky(H)\n",
    "    \n",
    "    # Solve first only with L\n",
    "    temp = np.linalg.solve(L, B)\n",
    "\n",
    "    # Return final solution by solving for temp with L.T\n",
    "    return np.linalg.solve(L.T, temp)"
   ]
  },
  {
   "cell_type": "code",
   "execution_count": 52,
   "id": "1276efd4",
   "metadata": {},
   "outputs": [
    {
     "name": "stderr",
     "output_type": "stream",
     "text": [
      "/var/folders/37/92g854mn0y75ft49m9xr6t9w0000gn/T/ipykernel_3503/1562695625.py:4: RuntimeWarning: overflow encountered in exp\n",
      "  exp = np.exp(arr @ param)\n",
      "/var/folders/37/92g854mn0y75ft49m9xr6t9w0000gn/T/ipykernel_3503/1562695625.py:5: RuntimeWarning: invalid value encountered in divide\n",
      "  return exp / (1 + exp)\n"
     ]
    },
    {
     "ename": "LinAlgError",
     "evalue": "Matrix is not positive definite",
     "output_type": "error",
     "traceback": [
      "\u001b[31m---------------------------------------------------------------------------\u001b[39m",
      "\u001b[31mLinAlgError\u001b[39m                               Traceback (most recent call last)",
      "\u001b[36mCell\u001b[39m\u001b[36m \u001b[39m\u001b[32mIn[52]\u001b[39m\u001b[32m, line 15\u001b[39m\n\u001b[32m     13\u001b[39m         theta += delta\n\u001b[32m     14\u001b[39m     \u001b[38;5;28;01mreturn\u001b[39;00m theta\n\u001b[32m---> \u001b[39m\u001b[32m15\u001b[39m \u001b[43mnewton_method\u001b[49m\u001b[43m(\u001b[49m\u001b[43mx_train\u001b[49m\u001b[43m,\u001b[49m\u001b[43m \u001b[49m\u001b[43my_train\u001b[49m\u001b[43m)\u001b[49m\n",
      "\u001b[36mCell\u001b[39m\u001b[36m \u001b[39m\u001b[32mIn[52]\u001b[39m\u001b[32m, line 10\u001b[39m, in \u001b[36mnewton_method\u001b[39m\u001b[34m(X, Y, iters)\u001b[39m\n\u001b[32m      8\u001b[39m p = Pr(X, theta)\n\u001b[32m      9\u001b[39m W = construct_w(p)\n\u001b[32m---> \u001b[39m\u001b[32m10\u001b[39m delta = \u001b[43mcompute_delta\u001b[49m\u001b[43m(\u001b[49m\u001b[43mX\u001b[49m\u001b[43m,\u001b[49m\u001b[43m \u001b[49m\u001b[43mW\u001b[49m\u001b[43m,\u001b[49m\u001b[43m \u001b[49m\u001b[43mY\u001b[49m\u001b[43m,\u001b[49m\u001b[43m \u001b[49m\u001b[43mp\u001b[49m\u001b[43m)\u001b[49m\n\u001b[32m     12\u001b[39m \u001b[38;5;66;03m# Apply Newton method\u001b[39;00m\n\u001b[32m     13\u001b[39m theta += delta\n",
      "\u001b[36mCell\u001b[39m\u001b[36m \u001b[39m\u001b[32mIn[51]\u001b[39m\u001b[32m, line 15\u001b[39m, in \u001b[36mcompute_delta\u001b[39m\u001b[34m(X, diag, Y, p)\u001b[39m\n\u001b[32m     12\u001b[39m B = X.T @ (Y - p)\n\u001b[32m     14\u001b[39m \u001b[38;5;66;03m# Speed up computation via decomposition\u001b[39;00m\n\u001b[32m---> \u001b[39m\u001b[32m15\u001b[39m L = \u001b[43mnp\u001b[49m\u001b[43m.\u001b[49m\u001b[43mlinalg\u001b[49m\u001b[43m.\u001b[49m\u001b[43mcholesky\u001b[49m\u001b[43m(\u001b[49m\u001b[43mH\u001b[49m\u001b[43m)\u001b[49m\n\u001b[32m     17\u001b[39m \u001b[38;5;66;03m# Solve first only with L\u001b[39;00m\n\u001b[32m     18\u001b[39m temp = np.linalg.solve(L, B)\n",
      "\u001b[36mFile \u001b[39m\u001b[32m~/CS-Work/ML/P1/LogisticRegression/LogisticRegression/lib/python3.13/site-packages/numpy/linalg/_linalg.py:839\u001b[39m, in \u001b[36mcholesky\u001b[39m\u001b[34m(a, upper)\u001b[39m\n\u001b[32m    836\u001b[39m signature = \u001b[33m'\u001b[39m\u001b[33mD->D\u001b[39m\u001b[33m'\u001b[39m \u001b[38;5;28;01mif\u001b[39;00m isComplexType(t) \u001b[38;5;28;01melse\u001b[39;00m \u001b[33m'\u001b[39m\u001b[33md->d\u001b[39m\u001b[33m'\u001b[39m\n\u001b[32m    837\u001b[39m \u001b[38;5;28;01mwith\u001b[39;00m errstate(call=_raise_linalgerror_nonposdef, invalid=\u001b[33m'\u001b[39m\u001b[33mcall\u001b[39m\u001b[33m'\u001b[39m,\n\u001b[32m    838\u001b[39m               over=\u001b[33m'\u001b[39m\u001b[33mignore\u001b[39m\u001b[33m'\u001b[39m, divide=\u001b[33m'\u001b[39m\u001b[33mignore\u001b[39m\u001b[33m'\u001b[39m, under=\u001b[33m'\u001b[39m\u001b[33mignore\u001b[39m\u001b[33m'\u001b[39m):\n\u001b[32m--> \u001b[39m\u001b[32m839\u001b[39m     r = \u001b[43mgufunc\u001b[49m\u001b[43m(\u001b[49m\u001b[43ma\u001b[49m\u001b[43m,\u001b[49m\u001b[43m \u001b[49m\u001b[43msignature\u001b[49m\u001b[43m=\u001b[49m\u001b[43msignature\u001b[49m\u001b[43m)\u001b[49m\n\u001b[32m    840\u001b[39m \u001b[38;5;28;01mreturn\u001b[39;00m wrap(r.astype(result_t, copy=\u001b[38;5;28;01mFalse\u001b[39;00m))\n",
      "\u001b[36mFile \u001b[39m\u001b[32m~/CS-Work/ML/P1/LogisticRegression/LogisticRegression/lib/python3.13/site-packages/numpy/linalg/_linalg.py:107\u001b[39m, in \u001b[36m_raise_linalgerror_nonposdef\u001b[39m\u001b[34m(err, flag)\u001b[39m\n\u001b[32m    106\u001b[39m \u001b[38;5;28;01mdef\u001b[39;00m\u001b[38;5;250m \u001b[39m\u001b[34m_raise_linalgerror_nonposdef\u001b[39m(err, flag):\n\u001b[32m--> \u001b[39m\u001b[32m107\u001b[39m     \u001b[38;5;28;01mraise\u001b[39;00m LinAlgError(\u001b[33m\"\u001b[39m\u001b[33mMatrix is not positive definite\u001b[39m\u001b[33m\"\u001b[39m)\n",
      "\u001b[31mLinAlgError\u001b[39m: Matrix is not positive definite"
     ]
    }
   ],
   "source": [
    "def newton_method(X, Y, iters=1000):\n",
    "    # Initialize Theta\n",
    "    np.random.seed(42)\n",
    "    theta = np.random.randn(xs.shape[1])\n",
    "\n",
    "    for _ in range(iters):\n",
    "        # Calc Values\n",
    "        p = Pr(X, theta)\n",
    "        W = construct_w(p)\n",
    "        delta = compute_delta(X, W, Y, p)\n",
    "\n",
    "        # Apply Newton method\n",
    "        theta += delta\n",
    "    return theta\n",
    "newton_method(x_train, y_train)\n",
    "\n"
   ]
  }
 ],
 "metadata": {
  "kernelspec": {
   "display_name": "LogisticRegression",
   "language": "python",
   "name": "python3"
  },
  "language_info": {
   "codemirror_mode": {
    "name": "ipython",
    "version": 3
   },
   "file_extension": ".py",
   "mimetype": "text/x-python",
   "name": "python",
   "nbconvert_exporter": "python",
   "pygments_lexer": "ipython3",
   "version": "3.13.2"
  }
 },
 "nbformat": 4,
 "nbformat_minor": 5
}
